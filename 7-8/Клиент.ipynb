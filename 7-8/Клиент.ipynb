{
 "cells": [
  {
   "cell_type": "code",
   "execution_count": 1,
   "id": "5f0a3755",
   "metadata": {},
   "outputs": [],
   "source": [
    "import socket\n",
    "from cryptography.hazmat.backends import default_backend\n",
    "from cryptography.hazmat.primitives.asymmetric import dh\n",
    "from cryptography.hazmat.primitives import hashes, serialization\n",
    "from cryptography.hazmat.primitives.kdf.hkdf import HKDF\n",
    "from cryptography.hazmat.primitives.ciphers import Cipher, algorithms, modes\n",
    "from cryptography.hazmat.backends import default_backend\n",
    "from os import urandom\n",
    "from cryptography.fernet import Fernet"
   ]
  },
  {
   "cell_type": "markdown",
   "id": "9469dac7",
   "metadata": {},
   "source": [
    "# Упражнение 1\n",
    "\n",
    "1. Расширение функционала клиента.\n",
    "\n",
    "* Модифицируйте код клиентского приложения так, чтобы он мог читать сообщения, введенные пользователем в консоли, и отправлять их серверу. После отправки каждого сообщения клиент должен получать и выводить эхо-ответ от сервера.\n",
    "\n",
    "* Реализуйте возможность для пользователя завершить работу клиентского приложения по специальной команде, например, введя `exit`. Это должно корректно закрывать соединение с сервером и останавливать программу клиента.\n",
    "\n",
    "2. Обработка исключений.\n",
    "\n",
    "* Добавьте в код сервера обработку исключений для ситуаций, когда клиент неожиданно разрывает соединение. Убедитесь, что сервер продолжает работу и готов принимать новые подключения даже после возникновения ошибок.\n",
    "\n",
    "* Реализуйте обработку исключений в клиентском приложении для обработки ошибок сети, таких как невозможность подключиться к серверу. В случае ошибки должно выводиться соответствующее сообщение, и клиент должен корректно завершать работу.\n",
    "\n",
    "3. Расширение функционала сервера.\n",
    "\n",
    "* Дополните сервер функционалом логирования. Сервер должен записывать в лог-файл информацию о каждом подключении: время подключения и адрес клиента. Также сервер должен логировать сообщения, получаемые от клиентов.\n",
    "\n",
    "* Разработайте механизм обработки специальных команд от клиента, например, `shutdown`, который будет корректно завершать работу сервера. Убедитесь, что сервер закрывает все активные соединения перед выключением"
   ]
  },
  {
   "cell_type": "code",
   "execution_count": 5,
   "id": "a658826a",
   "metadata": {},
   "outputs": [],
   "source": [
    "def start_client():\n",
    "    try:\n",
    "        client_socket = socket.socket(socket.AF_INET, socket.SOCK_STREAM)\n",
    "        client_socket.connect(('localhost', 9090))\n",
    "        \n",
    "        while True:\n",
    "            data = input()\n",
    "            client_socket.sendall(data.encode())\n",
    "            response = client_socket.recv(1024)\n",
    "            \n",
    "            if response.decode('utf-8') == 'exit':\n",
    "                print('Клиентский сокет закрыт')\n",
    "                break\n",
    "                \n",
    "            if response.decode('utf-8') == 'shutdown':\n",
    "                print('Сервер и клиентский сокет закрыты')\n",
    "                break\n",
    "                \n",
    "            print(f\"Ответ от сервера: {response.decode('utf-8')}\")\n",
    "            \n",
    "    except ConnectionRefusedError:\n",
    "        print('Невозможно подключиться к серверу')\n",
    "\n",
    "    finally:\n",
    "        client_socket.close()"
   ]
  },
  {
   "cell_type": "code",
   "execution_count": 9,
   "id": "02dca726",
   "metadata": {},
   "outputs": [
    {
     "name": "stdout",
     "output_type": "stream",
     "text": [
      "vdvddv\n",
      "Ответ от сервера: vdvddv\n",
      "bdbfbed\n",
      "Ответ от сервера: bdbfbed\n",
      "exit\n",
      "Клиентский сокет закрыт\n"
     ]
    }
   ],
   "source": [
    "start_client()"
   ]
  },
  {
   "cell_type": "markdown",
   "id": "61fb9d62",
   "metadata": {},
   "source": [
    "# Упражнение 3. Реализация протокола Диффи-Хеллмана и асимметричное шифрование"
   ]
  },
  {
   "cell_type": "code",
   "execution_count": 2,
   "id": "0c77b4e6",
   "metadata": {},
   "outputs": [],
   "source": [
    "def start_client():\n",
    "    try:\n",
    "        client_socket = socket.socket(socket.AF_INET, socket.SOCK_STREAM)\n",
    "        client_socket.connect(('localhost', 9090))\n",
    "        \n",
    "        params_bytes = client_socket.recv(1024)\n",
    "        parameters = serialization.load_pem_parameters(params_bytes, backend=default_backend())\n",
    "        \n",
    "        private_key = parameters.generate_private_key()\n",
    "        public_key = private_key.public_key()\n",
    "        \n",
    "        public_key_b = public_key.public_bytes(\n",
    "        encoding = serialization.Encoding.PEM,\n",
    "        format = serialization.PublicFormat.SubjectPublicKeyInfo\n",
    "        )\n",
    "        client_socket.sendall(public_key_b)\n",
    "        \n",
    "        server_public_key_b = client_socket.recv(1024)\n",
    "        server_public_key = serialization.load_pem_public_key(server_public_key_b)\n",
    "        \n",
    "        shared_secret = private_key.exchange(server_public_key)\n",
    "        derived_key = HKDF(\n",
    "            algorithm=hashes.SHA256(),\n",
    "            length=32,\n",
    "            salt=None,\n",
    "            info='handshake data'.encode(),\n",
    "            backend=default_backend()\n",
    "        ).derive(shared_secret)\n",
    "        \n",
    "        while True:\n",
    "            data = input().encode('utf-8')\n",
    "            iv = urandom(16)\n",
    "            cipher = Cipher(algorithms.AES(derived_key), modes.CFB(iv), backend=default_backend())\n",
    "            encryptor = cipher.encryptor()\n",
    "            ciphertext = encryptor.update(data) + encryptor.finalize()\n",
    "            \n",
    "            client_socket.sendall(iv)\n",
    "            client_socket.sendall(ciphertext)\n",
    "            \n",
    "            iv = client_socket.recv(1024)\n",
    "            cipher_response = client_socket.recv(1024)\n",
    "\n",
    "            cipher = Cipher(algorithms.AES(derived_key), modes.CFB(iv), backend=default_backend())\n",
    "            decryptor = cipher.decryptor()\n",
    "            response = decryptor.update(cipher_response) + decryptor.finalize()\n",
    "            \n",
    "            if response.decode('utf-8') == 'exit':\n",
    "                print('Клиентский сокет закрыт')\n",
    "                break\n",
    "                \n",
    "            if response.decode('utf-8') == 'shutdown':\n",
    "                print('Сервер и клиентский сокет закрыты')\n",
    "                break\n",
    "                \n",
    "            print(f\"Ответ от сервера: {response.decode('utf-8')}\")\n",
    "            \n",
    "    except ConnectionRefusedError:\n",
    "        print('Невозможно подключиться к серверу')\n",
    "\n",
    "    finally:\n",
    "        client_socket.close()"
   ]
  },
  {
   "cell_type": "code",
   "execution_count": 6,
   "id": "3f704acd",
   "metadata": {},
   "outputs": [
    {
     "name": "stdout",
     "output_type": "stream",
     "text": [
      "okkookok\n",
      "Ответ от сервера: okkookok\n",
      "shutdown\n",
      "Сервер и клиентский сокет закрыты\n"
     ]
    }
   ],
   "source": [
    "start_client()"
   ]
  },
  {
   "cell_type": "markdown",
   "id": "b9cb50e6",
   "metadata": {},
   "source": [
    "# Упражнение 5. Работа с UDP-сокетами"
   ]
  },
  {
   "cell_type": "code",
   "execution_count": 2,
   "id": "96e21489",
   "metadata": {},
   "outputs": [],
   "source": [
    "def start_udp_client():\n",
    "    try:\n",
    "        client_socket = socket.socket(socket.AF_INET, socket.SOCK_DGRAM)\n",
    "        server_address = ('localhost', 9090)\n",
    "        \n",
    "        while True:\n",
    "            data = input()\n",
    "            client_socket.sendto(data.encode(), server_address)\n",
    "            response, _ = client_socket.recvfrom(1024)\n",
    "                \n",
    "            if response.decode('utf-8') == 'exit':\n",
    "                print('Сервер и клиентский сокет закрыты')\n",
    "                break\n",
    "                \n",
    "            print(f\"Ответ от сервера: {response.decode()}\")\n",
    "            \n",
    "    except ConnectionRefusedError:\n",
    "        print('Невозможно подключиться к серверу')\n",
    "\n",
    "    finally:\n",
    "        client_socket.close()"
   ]
  },
  {
   "cell_type": "code",
   "execution_count": 5,
   "id": "9969d5de",
   "metadata": {},
   "outputs": [
    {
     "name": "stdout",
     "output_type": "stream",
     "text": [
      "ghjkl\n",
      "Ответ от сервера: ghjkl\n",
      "okj\n",
      "Ответ от сервера: okj\n",
      "vdvj\n",
      "Ответ от сервера: vdvj\n",
      "exit\n",
      "Сервер и клиентский сокет закрыты\n"
     ]
    }
   ],
   "source": [
    "start_udp_client()"
   ]
  },
  {
   "cell_type": "markdown",
   "id": "f591ab1c",
   "metadata": {},
   "source": [
    "# Упражнение 6. Использование селекторов для обработки множественных соединений"
   ]
  },
  {
   "cell_type": "code",
   "execution_count": 9,
   "id": "0a4c144f",
   "metadata": {},
   "outputs": [
    {
     "name": "stdout",
     "output_type": "stream",
     "text": [
      "rvrvr\n",
      "Ответ от сервера: rvrvr\n",
      "shutdown\n",
      "Сервер и клиентский сокет закрыты\n"
     ]
    }
   ],
   "source": [
    "start_client()"
   ]
  },
  {
   "cell_type": "markdown",
   "id": "b832071a",
   "metadata": {},
   "source": [
    "# Лабораторная работа №8"
   ]
  },
  {
   "cell_type": "code",
   "execution_count": 2,
   "id": "dc866bd4",
   "metadata": {},
   "outputs": [],
   "source": [
    "def start_client():\n",
    "    try:\n",
    "        client_socket = socket.socket(socket.AF_INET, socket.SOCK_STREAM)\n",
    "        client_socket.connect(('localhost', 9090))\n",
    "        \n",
    "        params_bytes = client_socket.recv(1024)\n",
    "        parameters = serialization.load_pem_parameters(params_bytes, backend=default_backend())\n",
    "        \n",
    "        private_key = parameters.generate_private_key()\n",
    "        public_key = private_key.public_key()\n",
    "        \n",
    "        public_key_b = public_key.public_bytes(\n",
    "        encoding = serialization.Encoding.PEM,\n",
    "        format = serialization.PublicFormat.SubjectPublicKeyInfo\n",
    "        )\n",
    "        client_socket.sendall(public_key_b)\n",
    "        \n",
    "        server_public_key_b = client_socket.recv(1024)\n",
    "        server_public_key = serialization.load_pem_public_key(server_public_key_b)\n",
    "        \n",
    "        shared_secret = private_key.exchange(server_public_key)\n",
    "        derived_key = HKDF(\n",
    "            algorithm=hashes.SHA256(),\n",
    "            length=32,\n",
    "            salt=None,\n",
    "            info='handshake data'.encode(),\n",
    "            backend=default_backend()\n",
    "        ).derive(shared_secret)\n",
    "        \n",
    "        while True:\n",
    "            data = input().encode('utf-8')\n",
    "            iv = urandom(16)\n",
    "            cipher = Cipher(algorithms.AES(derived_key), modes.CFB(iv), backend=default_backend())\n",
    "            encryptor = cipher.encryptor()\n",
    "            ciphertext = encryptor.update(data) + encryptor.finalize()\n",
    "            \n",
    "            client_socket.sendall(iv)\n",
    "            client_socket.sendall(ciphertext)\n",
    "            \n",
    "            iv = client_socket.recv(1024)\n",
    "            cipher_response = client_socket.recv(1024)\n",
    "\n",
    "            cipher = Cipher(algorithms.AES(derived_key), modes.CFB(iv), backend=default_backend())\n",
    "            decryptor = cipher.decryptor()\n",
    "            response = decryptor.update(cipher_response) + decryptor.finalize()\n",
    "            \n",
    "            if response.decode('utf-8') == 'exit':\n",
    "                print('Клиентский сокет закрыт')\n",
    "                break\n",
    "                \n",
    "            if response.decode('utf-8') == 'shutdown':\n",
    "                print('Сервер и клиентский сокет закрыты')\n",
    "                break\n",
    "                \n",
    "            print(f\"Ответ от сервера: {response.decode('utf-8')}\")\n",
    "            \n",
    "    except ConnectionRefusedError:\n",
    "        print('Невозможно подключиться к серверу')\n",
    "\n",
    "    finally:\n",
    "        client_socket.close()"
   ]
  },
  {
   "cell_type": "code",
   "execution_count": 4,
   "id": "e4fc05eb",
   "metadata": {},
   "outputs": [
    {
     "name": "stdout",
     "output_type": "stream",
     "text": [
      "iji\n",
      "Ответ от сервера: iji\n",
      "rfrf\n",
      "Ответ от сервера: rfrf\n"
     ]
    },
    {
     "ename": "KeyboardInterrupt",
     "evalue": "Interrupted by user",
     "output_type": "error",
     "traceback": [
      "\u001b[1;31m---------------------------------------------------------------------------\u001b[0m",
      "\u001b[1;31mKeyboardInterrupt\u001b[0m                         Traceback (most recent call last)",
      "Input \u001b[1;32mIn [4]\u001b[0m, in \u001b[0;36m<cell line: 1>\u001b[1;34m()\u001b[0m\n\u001b[1;32m----> 1\u001b[0m \u001b[43mstart_client\u001b[49m\u001b[43m(\u001b[49m\u001b[43m)\u001b[49m\n",
      "Input \u001b[1;32mIn [2]\u001b[0m, in \u001b[0;36mstart_client\u001b[1;34m()\u001b[0m\n\u001b[0;32m     22\u001b[0m derived_key \u001b[38;5;241m=\u001b[39m HKDF(\n\u001b[0;32m     23\u001b[0m     algorithm\u001b[38;5;241m=\u001b[39mhashes\u001b[38;5;241m.\u001b[39mSHA256(),\n\u001b[0;32m     24\u001b[0m     length\u001b[38;5;241m=\u001b[39m\u001b[38;5;241m32\u001b[39m,\n\u001b[1;32m   (...)\u001b[0m\n\u001b[0;32m     27\u001b[0m     backend\u001b[38;5;241m=\u001b[39mdefault_backend()\n\u001b[0;32m     28\u001b[0m )\u001b[38;5;241m.\u001b[39mderive(shared_secret)\n\u001b[0;32m     30\u001b[0m \u001b[38;5;28;01mwhile\u001b[39;00m \u001b[38;5;28;01mTrue\u001b[39;00m:\n\u001b[1;32m---> 31\u001b[0m     data \u001b[38;5;241m=\u001b[39m \u001b[38;5;28;43minput\u001b[39;49m\u001b[43m(\u001b[49m\u001b[43m)\u001b[49m\u001b[38;5;241m.\u001b[39mencode(\u001b[38;5;124m'\u001b[39m\u001b[38;5;124mutf-8\u001b[39m\u001b[38;5;124m'\u001b[39m)\n\u001b[0;32m     32\u001b[0m     iv \u001b[38;5;241m=\u001b[39m urandom(\u001b[38;5;241m16\u001b[39m)\n\u001b[0;32m     33\u001b[0m     cipher \u001b[38;5;241m=\u001b[39m Cipher(algorithms\u001b[38;5;241m.\u001b[39mAES(derived_key), modes\u001b[38;5;241m.\u001b[39mCFB(iv), backend\u001b[38;5;241m=\u001b[39mdefault_backend())\n",
      "File \u001b[1;32m~\\anaconda3\\lib\\site-packages\\ipykernel\\kernelbase.py:1075\u001b[0m, in \u001b[0;36mKernel.raw_input\u001b[1;34m(self, prompt)\u001b[0m\n\u001b[0;32m   1071\u001b[0m \u001b[38;5;28;01mif\u001b[39;00m \u001b[38;5;129;01mnot\u001b[39;00m \u001b[38;5;28mself\u001b[39m\u001b[38;5;241m.\u001b[39m_allow_stdin:\n\u001b[0;32m   1072\u001b[0m     \u001b[38;5;28;01mraise\u001b[39;00m StdinNotImplementedError(\n\u001b[0;32m   1073\u001b[0m         \u001b[38;5;124m\"\u001b[39m\u001b[38;5;124mraw_input was called, but this frontend does not support input requests.\u001b[39m\u001b[38;5;124m\"\u001b[39m\n\u001b[0;32m   1074\u001b[0m     )\n\u001b[1;32m-> 1075\u001b[0m \u001b[38;5;28;01mreturn\u001b[39;00m \u001b[38;5;28;43mself\u001b[39;49m\u001b[38;5;241;43m.\u001b[39;49m\u001b[43m_input_request\u001b[49m\u001b[43m(\u001b[49m\n\u001b[0;32m   1076\u001b[0m \u001b[43m    \u001b[49m\u001b[38;5;28;43mstr\u001b[39;49m\u001b[43m(\u001b[49m\u001b[43mprompt\u001b[49m\u001b[43m)\u001b[49m\u001b[43m,\u001b[49m\n\u001b[0;32m   1077\u001b[0m \u001b[43m    \u001b[49m\u001b[38;5;28;43mself\u001b[39;49m\u001b[38;5;241;43m.\u001b[39;49m\u001b[43m_parent_ident\u001b[49m\u001b[43m[\u001b[49m\u001b[38;5;124;43m\"\u001b[39;49m\u001b[38;5;124;43mshell\u001b[39;49m\u001b[38;5;124;43m\"\u001b[39;49m\u001b[43m]\u001b[49m\u001b[43m,\u001b[49m\n\u001b[0;32m   1078\u001b[0m \u001b[43m    \u001b[49m\u001b[38;5;28;43mself\u001b[39;49m\u001b[38;5;241;43m.\u001b[39;49m\u001b[43mget_parent\u001b[49m\u001b[43m(\u001b[49m\u001b[38;5;124;43m\"\u001b[39;49m\u001b[38;5;124;43mshell\u001b[39;49m\u001b[38;5;124;43m\"\u001b[39;49m\u001b[43m)\u001b[49m\u001b[43m,\u001b[49m\n\u001b[0;32m   1079\u001b[0m \u001b[43m    \u001b[49m\u001b[43mpassword\u001b[49m\u001b[38;5;241;43m=\u001b[39;49m\u001b[38;5;28;43;01mFalse\u001b[39;49;00m\u001b[43m,\u001b[49m\n\u001b[0;32m   1080\u001b[0m \u001b[43m\u001b[49m\u001b[43m)\u001b[49m\n",
      "File \u001b[1;32m~\\anaconda3\\lib\\site-packages\\ipykernel\\kernelbase.py:1120\u001b[0m, in \u001b[0;36mKernel._input_request\u001b[1;34m(self, prompt, ident, parent, password)\u001b[0m\n\u001b[0;32m   1117\u001b[0m             \u001b[38;5;28;01mbreak\u001b[39;00m\n\u001b[0;32m   1118\u001b[0m \u001b[38;5;28;01mexcept\u001b[39;00m \u001b[38;5;167;01mKeyboardInterrupt\u001b[39;00m:\n\u001b[0;32m   1119\u001b[0m     \u001b[38;5;66;03m# re-raise KeyboardInterrupt, to truncate traceback\u001b[39;00m\n\u001b[1;32m-> 1120\u001b[0m     \u001b[38;5;28;01mraise\u001b[39;00m \u001b[38;5;167;01mKeyboardInterrupt\u001b[39;00m(\u001b[38;5;124m\"\u001b[39m\u001b[38;5;124mInterrupted by user\u001b[39m\u001b[38;5;124m\"\u001b[39m) \u001b[38;5;28;01mfrom\u001b[39;00m \u001b[38;5;28;01mNone\u001b[39;00m\n\u001b[0;32m   1121\u001b[0m \u001b[38;5;28;01mexcept\u001b[39;00m \u001b[38;5;167;01mException\u001b[39;00m:\n\u001b[0;32m   1122\u001b[0m     \u001b[38;5;28mself\u001b[39m\u001b[38;5;241m.\u001b[39mlog\u001b[38;5;241m.\u001b[39mwarning(\u001b[38;5;124m\"\u001b[39m\u001b[38;5;124mInvalid Message:\u001b[39m\u001b[38;5;124m\"\u001b[39m, exc_info\u001b[38;5;241m=\u001b[39m\u001b[38;5;28;01mTrue\u001b[39;00m)\n",
      "\u001b[1;31mKeyboardInterrupt\u001b[0m: Interrupted by user"
     ]
    }
   ],
   "source": [
    "start_client()"
   ]
  },
  {
   "cell_type": "code",
   "execution_count": 7,
   "id": "f017b569",
   "metadata": {},
   "outputs": [],
   "source": [
    "def start_udp_client():\n",
    "    try:\n",
    "        client_socket = socket.socket(socket.AF_INET, socket.SOCK_DGRAM)\n",
    "        server_address = ('localhost', 9090)\n",
    "        \n",
    "        client_socket.sendto('Получение ключа'.encode(), server_address)\n",
    "        key, _ = client_socket.recvfrom(1024)\n",
    "        cipher = Fernet(key)\n",
    "        while True:\n",
    "            data = input().encode('utf-8')\n",
    "            ciphertext = cipher.encrypt(data)\n",
    "            client_socket.sendto(ciphertext, server_address)\n",
    " \n",
    "            cipher_response, _ = client_socket.recvfrom(1024)\n",
    "            response = cipher.decrypt(cipher_response)\n",
    "                \n",
    "            if response.decode('utf-8') == 'exit':\n",
    "                print('Сервер и клиентский сокет закрыты')\n",
    "                break\n",
    "                \n",
    "            print(f\"Ответ от сервера: {response.decode()}\")\n",
    "            \n",
    "    except ConnectionRefusedError:\n",
    "        print('Невозможно подключиться к серверу')\n",
    "\n",
    "    finally:\n",
    "        client_socket.close()"
   ]
  },
  {
   "cell_type": "code",
   "execution_count": 8,
   "id": "5e203660",
   "metadata": {},
   "outputs": [
    {
     "name": "stdout",
     "output_type": "stream",
     "text": [
      "ыдаодыоа\n",
      "Ответ от сервера: ыдаодыоа\n",
      "ыдаыдола\n",
      "Ответ от сервера: ыдаыдола\n",
      "exit\n",
      "Сервер и клиентский сокет закрыты\n"
     ]
    }
   ],
   "source": [
    "start_udp_client()"
   ]
  },
  {
   "cell_type": "code",
   "execution_count": 7,
   "id": "88e2a216",
   "metadata": {},
   "outputs": [],
   "source": [
    "def start_client():\n",
    "    try:\n",
    "        client_socket = socket.socket(socket.AF_INET, socket.SOCK_STREAM)\n",
    "        client_socket.connect(('localhost', 9090))\n",
    "        \n",
    "        key = client_socket.recv(1024)\n",
    "        cipher = Fernet(key)\n",
    "        while True:\n",
    "            data = input().encode()\n",
    "            ciphertext = cipher.encrypt(data)\n",
    "            client_socket.sendall(ciphertext)\n",
    "            \n",
    "            cipher_response = client_socket.recv(1024)\n",
    "            response = cipher.decrypt(cipher_response)\n",
    "            \n",
    "            if response.decode('utf-8') == 'exit':\n",
    "                print('Клиентский сокет закрыт')\n",
    "                break\n",
    "                \n",
    "            if response.decode('utf-8') == 'shutdown':\n",
    "                print('Сервер и клиентский сокет закрыты')\n",
    "                break\n",
    "                \n",
    "            print(f\"Ответ от сервера: {response.decode('utf-8')}\")\n",
    "            \n",
    "    except ConnectionRefusedError:\n",
    "        print('Невозможно подключиться к серверу')\n",
    "\n",
    "    finally:\n",
    "        client_socket.close()"
   ]
  },
  {
   "cell_type": "code",
   "execution_count": 8,
   "id": "3ed89030",
   "metadata": {},
   "outputs": [
    {
     "name": "stdout",
     "output_type": "stream",
     "text": [
      "jsjsj\n",
      "Ответ от сервера: jsjsj\n",
      "jcsjcjsic\n",
      "Ответ от сервера: jcsjcjsic\n",
      "jdjnjdnvndv\n",
      "Ответ от сервера: jdjnjdnvndv\n",
      "shutdown\n",
      "Сервер и клиентский сокет закрыты\n"
     ]
    }
   ],
   "source": [
    "start_client()"
   ]
  },
  {
   "cell_type": "code",
   "execution_count": null,
   "id": "a7e9d345",
   "metadata": {},
   "outputs": [],
   "source": []
  }
 ],
 "metadata": {
  "kernelspec": {
   "display_name": "Python 3 (ipykernel)",
   "language": "python",
   "name": "python3"
  },
  "language_info": {
   "codemirror_mode": {
    "name": "ipython",
    "version": 3
   },
   "file_extension": ".py",
   "mimetype": "text/x-python",
   "name": "python",
   "nbconvert_exporter": "python",
   "pygments_lexer": "ipython3",
   "version": "3.9.12"
  }
 },
 "nbformat": 4,
 "nbformat_minor": 5
}
