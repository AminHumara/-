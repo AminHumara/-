{
 "cells": [
  {
   "cell_type": "code",
   "execution_count": 1,
   "id": "b39332ab",
   "metadata": {},
   "outputs": [],
   "source": [
    "import socket\n",
    "from cryptography.hazmat.backends import default_backend\n",
    "from cryptography.hazmat.primitives.asymmetric import dh\n",
    "from cryptography.hazmat.primitives import hashes, serialization\n",
    "from cryptography.hazmat.primitives.kdf.hkdf import HKDF\n",
    "from cryptography.hazmat.primitives.ciphers import Cipher, algorithms, modes\n",
    "from cryptography.hazmat.backends import default_backend\n",
    "from os import urandom\n",
    "from cryptography.fernet import Fernet"
   ]
  },
  {
   "cell_type": "code",
   "execution_count": 2,
   "id": "2c8e8723",
   "metadata": {},
   "outputs": [],
   "source": [
    "def start_client():\n",
    "    try:\n",
    "        client_socket = socket.socket(socket.AF_INET, socket.SOCK_STREAM)\n",
    "        client_socket.connect(('localhost', 9090))\n",
    "        \n",
    "        while True:\n",
    "            data = input()\n",
    "            client_socket.sendall(data.encode())\n",
    "            response = client_socket.recv(1024)\n",
    "            \n",
    "            if response.decode('utf-8') == 'exit':\n",
    "                print('Клиентский сокет закрыт')\n",
    "                break\n",
    "                \n",
    "            if response.decode('utf-8') == 'shutdown':\n",
    "                print('Сервер и клиентский сокет закрыты')\n",
    "                break\n",
    "                \n",
    "            print(f\"Ответ от сервера: {response.decode('utf-8')}\")\n",
    "            \n",
    "    except ConnectionRefusedError:\n",
    "        print('Невозможно подключиться к серверу')\n",
    "\n",
    "    finally:\n",
    "        client_socket.close()"
   ]
  },
  {
   "cell_type": "code",
   "execution_count": 9,
   "id": "6114c33a",
   "metadata": {},
   "outputs": [
    {
     "name": "stdout",
     "output_type": "stream",
     "text": [
      "dvdv\n",
      "Ответ от сервера: dvdv\n",
      "exit\n",
      "Клиентский сокет закрыт\n"
     ]
    }
   ],
   "source": [
    "start_client()"
   ]
  },
  {
   "cell_type": "markdown",
   "id": "c1539ba4",
   "metadata": {},
   "source": [
    "# Лабораторная работа №8"
   ]
  },
  {
   "cell_type": "code",
   "execution_count": 11,
   "id": "f768a5c0",
   "metadata": {},
   "outputs": [],
   "source": [
    "def start_client():\n",
    "    try:\n",
    "        client_socket = socket.socket(socket.AF_INET, socket.SOCK_STREAM)\n",
    "        client_socket.connect(('localhost', 9090))\n",
    "        \n",
    "        params_bytes = client_socket.recv(1024)\n",
    "        parameters = serialization.load_pem_parameters(params_bytes, backend=default_backend())\n",
    "        \n",
    "        private_key = parameters.generate_private_key()\n",
    "        public_key = private_key.public_key()\n",
    "        \n",
    "        public_key_b = public_key.public_bytes(\n",
    "        encoding = serialization.Encoding.PEM,\n",
    "        format = serialization.PublicFormat.SubjectPublicKeyInfo\n",
    "        )\n",
    "        client_socket.sendall(public_key_b)\n",
    "        \n",
    "        server_public_key_b = client_socket.recv(1024)\n",
    "        server_public_key = serialization.load_pem_public_key(server_public_key_b)\n",
    "        \n",
    "        shared_secret = private_key.exchange(server_public_key)\n",
    "        derived_key = HKDF(\n",
    "            algorithm=hashes.SHA256(),\n",
    "            length=32,\n",
    "            salt=None,\n",
    "            info='handshake data'.encode(),\n",
    "            backend=default_backend()\n",
    "        ).derive(shared_secret)\n",
    "        \n",
    "        while True:\n",
    "            data = input().encode('utf-8')\n",
    "            iv = urandom(16)\n",
    "            cipher = Cipher(algorithms.AES(derived_key), modes.CFB(iv), backend=default_backend())\n",
    "            encryptor = cipher.encryptor()\n",
    "            ciphertext = encryptor.update(data) + encryptor.finalize()\n",
    "            \n",
    "            client_socket.sendall(iv)\n",
    "            client_socket.sendall(ciphertext)\n",
    "            \n",
    "            iv = client_socket.recv(1024)\n",
    "            cipher_response = client_socket.recv(1024)\n",
    "\n",
    "            cipher = Cipher(algorithms.AES(derived_key), modes.CFB(iv), backend=default_backend())\n",
    "            decryptor = cipher.decryptor()\n",
    "            response = decryptor.update(cipher_response) + decryptor.finalize()\n",
    "            \n",
    "            if response.decode('utf-8') == 'exit':\n",
    "                print('Клиентский сокет закрыт')\n",
    "                break\n",
    "                \n",
    "            if response.decode('utf-8') == 'shutdown':\n",
    "                print('Сервер и клиентский сокет закрыты')\n",
    "                break\n",
    "                \n",
    "            print(f\"Ответ от сервера: {response.decode('utf-8')}\")\n",
    "            \n",
    "    except ConnectionRefusedError:\n",
    "        print('Невозможно подключиться к серверу')\n",
    "\n",
    "    finally:\n",
    "        client_socket.close()"
   ]
  },
  {
   "cell_type": "code",
   "execution_count": 22,
   "id": "c56eab12",
   "metadata": {},
   "outputs": [
    {
     "name": "stdout",
     "output_type": "stream",
     "text": [
      "jj\n",
      "Ответ от сервера: jj\n",
      "shutdown\n",
      "Сервер и клиентский сокет закрыты\n"
     ]
    }
   ],
   "source": [
    "start_client()"
   ]
  },
  {
   "cell_type": "code",
   "execution_count": 3,
   "id": "8d35d662",
   "metadata": {},
   "outputs": [],
   "source": [
    "def start_client():\n",
    "    try:\n",
    "        client_socket = socket.socket(socket.AF_INET, socket.SOCK_STREAM)\n",
    "        client_socket.connect(('localhost', 9090))\n",
    "        \n",
    "        key = client_socket.recv(1024)\n",
    "        cipher = Fernet(key)\n",
    "        while True:\n",
    "            data = input().encode()\n",
    "            ciphertext = cipher.encrypt(data)\n",
    "            client_socket.sendall(ciphertext)\n",
    "            \n",
    "            cipher_response = client_socket.recv(1024)\n",
    "            response = cipher.decrypt(cipher_response)\n",
    "            \n",
    "            if response.decode('utf-8') == 'exit':\n",
    "                print('Клиентский сокет закрыт')\n",
    "                break\n",
    "                \n",
    "            if response.decode('utf-8') == 'shutdown':\n",
    "                print('Сервер и клиентский сокет закрыты')\n",
    "                break\n",
    "                \n",
    "            print(f\"Ответ от сервера: {response.decode('utf-8')}\")\n",
    "            \n",
    "    except ConnectionRefusedError:\n",
    "        print('Невозможно подключиться к серверу')\n",
    "\n",
    "    finally:\n",
    "        client_socket.close()"
   ]
  },
  {
   "cell_type": "code",
   "execution_count": 4,
   "id": "6ff01d53",
   "metadata": {},
   "outputs": [
    {
     "name": "stdout",
     "output_type": "stream",
     "text": [
      "jdhfjdhf\n",
      "Ответ от сервера: jdhfjdhf\n",
      "kjkdc\n",
      "Ответ от сервера: kjkdc\n",
      "exit\n",
      "Клиентский сокет закрыт\n"
     ]
    }
   ],
   "source": [
    "start_client()"
   ]
  },
  {
   "cell_type": "code",
   "execution_count": null,
   "id": "ad6b3b63",
   "metadata": {},
   "outputs": [],
   "source": []
  }
 ],
 "metadata": {
  "kernelspec": {
   "display_name": "Python 3 (ipykernel)",
   "language": "python",
   "name": "python3"
  },
  "language_info": {
   "codemirror_mode": {
    "name": "ipython",
    "version": 3
   },
   "file_extension": ".py",
   "mimetype": "text/x-python",
   "name": "python",
   "nbconvert_exporter": "python",
   "pygments_lexer": "ipython3",
   "version": "3.9.12"
  }
 },
 "nbformat": 4,
 "nbformat_minor": 5
}
