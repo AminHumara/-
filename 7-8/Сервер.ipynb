{
 "cells": [
  {
   "cell_type": "code",
   "execution_count": 1,
   "id": "10989afd",
   "metadata": {},
   "outputs": [],
   "source": [
    "import socket\n",
    "import logging\n",
    "import threading\n",
    "from cryptography.hazmat.backends import default_backend\n",
    "from cryptography.hazmat.primitives.asymmetric import dh\n",
    "from cryptography.hazmat.primitives import hashes, serialization\n",
    "from cryptography.hazmat.primitives.kdf.hkdf import HKDF\n",
    "from cryptography.hazmat.primitives.ciphers import Cipher, algorithms, modes\n",
    "from cryptography.hazmat.backends import default_backend\n",
    "from os import urandom\n",
    "import selectors\n",
    "from cryptography.fernet import Fernet"
   ]
  },
  {
   "cell_type": "markdown",
   "id": "785f89c2",
   "metadata": {},
   "source": [
    "# Упражнение 1\n",
    "\n",
    "1. Расширение функционала клиента.\n",
    "\n",
    "* Модифицируйте код клиентского приложения так, чтобы он мог читать сообщения, введенные пользователем в консоли, и отправлять их серверу. После отправки каждого сообщения клиент должен получать и выводить эхо-ответ от сервера.\n",
    "\n",
    "* Реализуйте возможность для пользователя завершить работу клиентского приложения по специальной команде, например, введя `exit`. Это должно корректно закрывать соединение с сервером и останавливать программу клиента.\n",
    "\n",
    "2. Обработка исключений.\n",
    "\n",
    "* Добавьте в код сервера обработку исключений для ситуаций, когда клиент неожиданно разрывает соединение. Убедитесь, что сервер продолжает работу и готов принимать новые подключения даже после возникновения ошибок.\n",
    "\n",
    "* Реализуйте обработку исключений в клиентском приложении для обработки ошибок сети, таких как невозможность подключиться к серверу. В случае ошибки должно выводиться соответствующее сообщение, и клиент должен корректно завершать работу.\n",
    "\n",
    "3. Расширение функционала сервера.\n",
    "\n",
    "* Дополните сервер функционалом логирования. Сервер должен записывать в лог-файл информацию о каждом подключении: время подключения и адрес клиента. Также сервер должен логировать сообщения, получаемые от клиентов.\n",
    "\n",
    "* Разработайте механизм обработки специальных команд от клиента, например, `shutdown`, который будет корректно завершать работу сервера. Убедитесь, что сервер закрывает все активные соединения перед выключением"
   ]
  },
  {
   "cell_type": "code",
   "execution_count": 9,
   "id": "de667d99",
   "metadata": {},
   "outputs": [],
   "source": [
    "def start_server():\n",
    "    server_socket = socket.socket(socket.AF_INET, socket.SOCK_STREAM)\n",
    "    server_socket.bind(('localhost', 9090))\n",
    "    server_socket.listen()\n",
    "    print(\"Сервер запущен и ожидает подключений...\")\n",
    "    client_socket, client_address = server_socket.accept()\n",
    "    print(\"Соединение установлено =D\\n\")\n",
    "    \n",
    "    logging.basicConfig(\n",
    "    level=logging.INFO, \n",
    "    filename = \"mylog.log\", \n",
    "    format = \"%(asctime)s - %(message)s \" \n",
    "    )\n",
    "\n",
    "    try:\n",
    "        while True:\n",
    "            data = client_socket.recv(1024)\n",
    "            logging.info(f'client adress: {client_address} - client message: {data.decode(\"utf-8\")}')  \n",
    "            if data:\n",
    "                client_socket.sendall(data)\n",
    "                \n",
    "                if data.decode('utf-8')=='exit':\n",
    "                    client_socket.close()\n",
    "                    print(\"Соединение с клиентом закрыто\")\n",
    "                    print(\"Сервер ожидает подключений...\")\n",
    "                    client_socket, client_address = server_socket.accept()\n",
    "                    print(\"Соединение установлено =D\\n\")\n",
    "\n",
    "                if data.decode('utf-8')=='shutdown':\n",
    "                    break\n",
    "            else:\n",
    "                client_socket.close()\n",
    "                print(\"Соединение с клиентом разорвано\")\n",
    "                print(\"Сервер ожидает подключений...\")\n",
    "                client_socket, client_address = server_socket.accept()\n",
    "                print(\"Соединение установлено =D\\n\")\n",
    "\n",
    "    finally:\n",
    "        print(\"Соединение с клиентом закрыто\\nСервер закрыт\")\n",
    "        client_socket.close()\n",
    "        server_socket.close()"
   ]
  },
  {
   "cell_type": "code",
   "execution_count": 10,
   "id": "36464cfc",
   "metadata": {},
   "outputs": [
    {
     "name": "stdout",
     "output_type": "stream",
     "text": [
      "Сервер запущен и ожидает подключений...\n",
      "Соединение установлено =D\n",
      "\n",
      "Соединение с клиентом закрыто\n",
      "Сервер закрыт\n"
     ]
    }
   ],
   "source": [
    "start_server()"
   ]
  },
  {
   "cell_type": "markdown",
   "id": "63fe7ce1",
   "metadata": {},
   "source": [
    "# Упражнение 2\n",
    "* Запустите модифицированный сервер и подключите к нему несколько клиентов одновременно (используя код клиента из Упражнения 1). Проверьте, что сервер корректно обрабатывает каждое соединение в отдельном потоке, возвращая эхо-ответы.\n",
    "\n",
    "* Исследуйте, как Global Interpreter Lock (GIL) влияет на многопоточность в Python, и расскажите, почему многопоточность остается полезной в сетевом программировании, несмотря на присутствие GIL."
   ]
  },
  {
   "cell_type": "code",
   "execution_count": 4,
   "id": "82ca510b",
   "metadata": {},
   "outputs": [],
   "source": [
    "def handle_client(client_socket, server_socket):\n",
    "    \"\"\"Обрабатывает соединение с клиентом в отдельном потоке.\"\"\"\n",
    "    try:\n",
    "        while True:\n",
    "            message = client_socket.recv(1024)\n",
    "            client_socket.sendall(message)\n",
    "            if message.decode('utf-8') in ('exit', None):\n",
    "                break  # Клиент закрыл соединение\n",
    "    finally:\n",
    "        client_socket.close()\n",
    "        if message.decode('utf-8') == 'shutdown':\n",
    "            server_socket.close()\n",
    "\n",
    "def start_server():\n",
    "    \"\"\"Запускает сервер и обрабатывает множество соединений.\"\"\"\n",
    "    server_socket = socket.socket(socket.AF_INET, socket.SOCK_STREAM)\n",
    "    server_socket.bind(('localhost', 9090))\n",
    "    server_socket.listen()\n",
    "    print(\"Сервер запущен и ожидает подключений...\")\n",
    "\n",
    "    while True:\n",
    "        client_sock, address = server_socket.accept()\n",
    "        print(f\"Принято соединение от {address}\")\n",
    "        client_thread = threading.Thread(target=handle_client, args=(client_sock, server_socket))\n",
    "        client_thread.start()"
   ]
  },
  {
   "cell_type": "code",
   "execution_count": null,
   "id": "d3e93e75",
   "metadata": {},
   "outputs": [
    {
     "name": "stdout",
     "output_type": "stream",
     "text": [
      "Сервер запущен и ожидает подключений...\n",
      "Принято соединение от ('127.0.0.1', 61327)\n",
      "Принято соединение от ('127.0.0.1', 61343)\n"
     ]
    }
   ],
   "source": [
    "start_server()"
   ]
  },
  {
   "cell_type": "markdown",
   "id": "6df6dbf6",
   "metadata": {},
   "source": [
    "Из-за GIL только один поток может исполнять Python-код в каждый момент времени, что ограничивает использование многопроцессорных систем для вычислительно-интенсивных задач.\n",
    "\n",
    "В сетевом программировании операции ввода-вывода часто блокируют потоки. Пока один поток ждет данные, другие потоки могут продолжать работу, что эффективно использует время ожидания. Потоки могут обрабатывать асинхронные события параллельно, улучшая отзывчивость приложений. Многопоточный код часто проще для понимания и сопровождения, позволяя обрабатывать разные соединения в отдельных потоках."
   ]
  },
  {
   "cell_type": "markdown",
   "id": "fcfefc2f",
   "metadata": {},
   "source": [
    "# Упражнение 3. Реализация протокола Диффи-Хеллмана и асимметричное шифрование"
   ]
  },
  {
   "cell_type": "code",
   "execution_count": 15,
   "id": "2bd4e611",
   "metadata": {},
   "outputs": [],
   "source": [
    "parameters = dh.generate_parameters(generator=2, key_size=2048, backend=default_backend())\n",
    "\n",
    "private_key = parameters.generate_private_key()\n",
    "public_key = private_key.public_key()"
   ]
  },
  {
   "cell_type": "code",
   "execution_count": 41,
   "id": "ff8f446d",
   "metadata": {},
   "outputs": [],
   "source": [
    "shared_secret = private_key.exchange(public_key)\n",
    "derived_key = HKDF(\n",
    "    algorithm=hashes.SHA256(),\n",
    "    length=32,\n",
    "    salt=None,\n",
    "    info='handshake data'.encode(),\n",
    "    backend=default_backend()\n",
    ").derive(shared_secret)"
   ]
  },
  {
   "cell_type": "code",
   "execution_count": 42,
   "id": "2088c943",
   "metadata": {},
   "outputs": [],
   "source": [
    "iv = urandom(16)\n",
    "cipher = Cipher(algorithms.AES(derived_key), modes.CFB(iv), backend=default_backend())\n",
    "encryptor = cipher.encryptor()\n",
    "ciphertext = encryptor.update(\"Секретное сообщение\".encode()) + encryptor.finalize()"
   ]
  },
  {
   "cell_type": "code",
   "execution_count": 43,
   "id": "4f1a6faf",
   "metadata": {},
   "outputs": [],
   "source": [
    "decryptor = cipher.decryptor()\n",
    "plaintext = decryptor.update(ciphertext) + decryptor.finalize()"
   ]
  },
  {
   "cell_type": "code",
   "execution_count": 44,
   "id": "8f6f1b78",
   "metadata": {},
   "outputs": [
    {
     "data": {
      "text/plain": [
       "'Секретное сообщение'"
      ]
     },
     "execution_count": 44,
     "metadata": {},
     "output_type": "execute_result"
    }
   ],
   "source": [
    "plaintext.decode('utf-8')"
   ]
  },
  {
   "cell_type": "code",
   "execution_count": 5,
   "id": "3975b484",
   "metadata": {},
   "outputs": [],
   "source": [
    "def create_shared_secret(client_socket, private_key, params_bytes, public_key_b):\n",
    "    client_socket.sendall(params_bytes)\n",
    "    client_socket.sendall(public_key_b)\n",
    "    \n",
    "    client_public_key_b = client_socket.recv(1024)\n",
    "    client_public_key = serialization.load_pem_public_key(client_public_key_b)\n",
    "    \n",
    "    shared_secret = private_key.exchange(client_public_key)\n",
    "    derived_key = HKDF(\n",
    "        algorithm=hashes.SHA256(),\n",
    "        length=32,\n",
    "        salt=None,\n",
    "        info='handshake data'.encode(),\n",
    "        backend=default_backend()\n",
    "    ).derive(shared_secret)\n",
    "    \n",
    "    return derived_key\n",
    "\n",
    "\n",
    "def start_server():\n",
    "    server_socket = socket.socket(socket.AF_INET, socket.SOCK_STREAM)\n",
    "    server_socket.bind(('localhost', 9090))\n",
    "    server_socket.listen()\n",
    "    print(\"Сервер запущен и ожидает подключений...\")\n",
    "    client_socket, client_address = server_socket.accept()\n",
    "    \n",
    "    parameters = dh.generate_parameters(generator=2, key_size=2048, backend=default_backend())\n",
    "    private_key = parameters.generate_private_key()\n",
    "    public_key = private_key.public_key()\n",
    "    \n",
    "    public_key_b = public_key.public_bytes(\n",
    "    encoding = serialization.Encoding.PEM,\n",
    "    format = serialization.PublicFormat.SubjectPublicKeyInfo\n",
    "    )\n",
    "    params_bytes = parameters.parameter_bytes(\n",
    "    encoding=serialization.Encoding.PEM,\n",
    "    format=serialization.ParameterFormat.PKCS3\n",
    "    )\n",
    "    derived_key = create_shared_secret(client_socket, private_key, params_bytes, public_key_b)\n",
    "    \n",
    "    print(\"Соединение установлено =D\\n\")\n",
    "    \n",
    "    logging.basicConfig(\n",
    "    level=logging.INFO, \n",
    "    filename = \"mylog.log\", \n",
    "    format = \"%(asctime)s - %(message)s \" \n",
    "    )\n",
    "\n",
    "    try:\n",
    "        while True:\n",
    "            iv = client_socket.recv(1024)\n",
    "            ciphertext = client_socket.recv(1024)\n",
    "            \n",
    "            cipher = Cipher(algorithms.AES(derived_key), modes.CFB(iv), backend=default_backend())\n",
    "            decryptor = cipher.decryptor()\n",
    "            data = decryptor.update(ciphertext) + decryptor.finalize()\n",
    "\n",
    "            logging.info(f'client adress: {client_address} - client message: {data.decode(\"utf-8\")}')\n",
    "            \n",
    "            if data:\n",
    "                iv = urandom(16)\n",
    "                cipher = Cipher(algorithms.AES(derived_key), modes.CFB(iv), backend=default_backend())\n",
    "                encryptor = cipher.encryptor()\n",
    "                ciphertext = encryptor.update(data) + encryptor.finalize()\n",
    "\n",
    "                client_socket.sendall(iv)\n",
    "                client_socket.sendall(ciphertext)\n",
    "\n",
    "                if data.decode('utf-8') == 'exit':\n",
    "                    client_socket.close()\n",
    "                    print(\"Соединение с клиентом закрыто\")\n",
    "                    print(\"Сервер ожидает подключений...\")\n",
    "                    client_socket, client_address = server_socket.accept()\n",
    "                    derived_key = create_shared_secret(client_socket, private_key, params_bytes, public_key_b)\n",
    "                    print(\"Соединение установлено =D\\n\")\n",
    "\n",
    "                if data.decode('utf-8') == 'shutdown':\n",
    "                    break\n",
    "            else:\n",
    "                client_socket.close()\n",
    "                print(\"Соединение с клиентом разорвано\")\n",
    "                print(\"Сервер ожидает подключений...\")\n",
    "                client_socket, client_address = server_socket.accept()\n",
    "                derived_key = create_shared_secret(client_socket, private_key, params_bytes, public_key_b)\n",
    "                print(\"Соединение установлено =D\\n\")\n",
    "\n",
    "    finally:\n",
    "        print(\"Соединение с клиентом закрыто\\nСервер закрыт\")\n",
    "        client_socket.close()\n",
    "        server_socket.close()"
   ]
  },
  {
   "cell_type": "code",
   "execution_count": 6,
   "id": "96fd4444",
   "metadata": {},
   "outputs": [
    {
     "name": "stdout",
     "output_type": "stream",
     "text": [
      "Сервер запущен и ожидает подключений...\n",
      "Соединение установлено =D\n",
      "\n",
      "Соединение с клиентом закрыто\n",
      "Сервер ожидает подключений...\n",
      "Соединение установлено =D\n",
      "\n",
      "Соединение с клиентом закрыто\n",
      "Сервер закрыт\n"
     ]
    }
   ],
   "source": [
    "start_server()"
   ]
  },
  {
   "cell_type": "markdown",
   "id": "47c6641c",
   "metadata": {},
   "source": [
    "# Упражнение 5. Работа с UDP-сокетами"
   ]
  },
  {
   "cell_type": "code",
   "execution_count": 18,
   "id": "8579bac5",
   "metadata": {},
   "outputs": [],
   "source": [
    "def start_udp_server():\n",
    "    server_socket = socket.socket(socket.AF_INET, socket.SOCK_DGRAM)\n",
    "    server_socket.bind(('localhost', 9090))\n",
    "    print(\"Сервер запущен и ожидает сообщений...\")\n",
    "\n",
    "    while True:\n",
    "        data, client_address = server_socket.recvfrom(1024)\n",
    "        server_socket.sendto(data, client_address)\n",
    "        \n",
    "        if data.decode()=='exit':\n",
    "            print(\"Сервер закрыт\")\n",
    "            server_socket.close()\n",
    "            break\n",
    "            \n",
    "        print(f'Отправлен эхо-ответ \"{data.decode()}\" на адрес {client_address}')"
   ]
  },
  {
   "cell_type": "code",
   "execution_count": 20,
   "id": "37556093",
   "metadata": {},
   "outputs": [
    {
     "name": "stdout",
     "output_type": "stream",
     "text": [
      "Сервер запущен и ожидает сообщений...\n",
      "Отправлен эхо-ответ \"ghjkl\" на адрес ('127.0.0.1', 51993)\n",
      "Отправлен эхо-ответ \"okj\" на адрес ('127.0.0.1', 51993)\n",
      "Отправлен эхо-ответ \"vdvj\" на адрес ('127.0.0.1', 51993)\n",
      "Сервер закрыт\n"
     ]
    }
   ],
   "source": [
    "start_udp_server()"
   ]
  },
  {
   "cell_type": "markdown",
   "id": "6f9b7a5d",
   "metadata": {},
   "source": [
    "# Упражнение 6. Использование селекторов для обработки множественных соединений"
   ]
  },
  {
   "cell_type": "code",
   "execution_count": 22,
   "id": "13d43618",
   "metadata": {},
   "outputs": [],
   "source": [
    "selector = selectors.DefaultSelector()\n",
    "server_running = True\n",
    "\n",
    "logging.basicConfig(level=logging.INFO, format='%(asctime)s - %(message)s')\n",
    "logger = logging.getLogger()\n",
    "\n",
    "def accept_connection(server_socket):\n",
    "    try:\n",
    "        client_socket, client_address = server_socket.accept()\n",
    "        logger.info(f\"Подключение от {client_address}\")\n",
    "        client_socket.setblocking(False)\n",
    "        selector.register(client_socket, selectors.EVENT_READ, send_echo)\n",
    "    except Exception as e:\n",
    "        logger.error(f\"Ошибка при подключении клиента: {e}\")\n",
    "\n",
    "def send_echo(client_socket):\n",
    "    try:\n",
    "        data = client_socket.recv(1024)\n",
    "\n",
    "        if data:\n",
    "            client_socket.sendall(data)\n",
    "\n",
    "            if data.decode('utf-8') == 'shutdown':\n",
    "                shutdown_server()\n",
    "                return\n",
    "\n",
    "            if data.decode('utf-8') == 'exit':\n",
    "                close_connection(client_socket)\n",
    "                return\n",
    "        else:\n",
    "            close_connection(client_socket, 1)\n",
    "    except Exception as e:\n",
    "        logger.error(f\"Ошибка при обработке данных от клиента: {e}\")\n",
    "        close_connection(client_socket)\n",
    "\n",
    "def close_connection(client_socket, break_ = 0):\n",
    "    try:\n",
    "        selector.unregister(client_socket)\n",
    "        client_socket.close()\n",
    "\n",
    "        if not break_:\n",
    "            logger.info(\"Соединение с клиентом закрыто\")\n",
    "        else:\n",
    "            logger.info(\"Соединение с клиентом разорвано\")\n",
    "            \n",
    "    except Exception as e:\n",
    "        logger.error(f\"Ошибка при закрытии соединения: {e}\")\n",
    "\n",
    "def shutdown_server():\n",
    "    global server_running\n",
    "    server_running = False\n",
    "    events = selector.select(timeout=None)\n",
    "    for key, _ in events:\n",
    "        if key.data == send_echo:\n",
    "            close_connection(key.fileobj)\n",
    "\n",
    "def start_server():\n",
    "    global server_running\n",
    "    server_socket = socket.socket(socket.AF_INET, socket.SOCK_STREAM)\n",
    "    server_socket.bind(('localhost', 9090))\n",
    "    server_socket.listen()\n",
    "    server_socket.setblocking(False)\n",
    "    selector.register(server_socket, selectors.EVENT_READ, accept_connection)\n",
    "\n",
    "    logger.info(\"Сервер запущен и ожидает подключений...\")\n",
    "    while server_running:\n",
    "        try:\n",
    "            events = selector.select(timeout=None)\n",
    "            for key, _ in events:\n",
    "                callback = key.data\n",
    "                callback(key.fileobj)\n",
    "        except Exception as e:\n",
    "            logger.error(f\"Ошибка в основном цикле сервера: {e}\")\n",
    "\n",
    "    logger.info(\"Сервер закрыт\")\n",
    "    server_socket.close()"
   ]
  },
  {
   "cell_type": "code",
   "execution_count": 23,
   "id": "e0a1591c",
   "metadata": {},
   "outputs": [
    {
     "name": "stderr",
     "output_type": "stream",
     "text": [
      "2024-05-20 09:04:27,831 - Сервер запущен и ожидает подключений...\n",
      "2024-05-20 09:04:35,123 - Подключение от ('127.0.0.1', 54374)\n",
      "2024-05-20 09:04:38,962 - Подключение от ('127.0.0.1', 54376)\n",
      "2024-05-20 09:04:50,519 - Соединение с клиентом закрыто\n",
      "2024-05-20 09:04:57,149 - Соединение с клиентом закрыто\n",
      "2024-05-20 09:04:57,150 - Сервер закрыт\n"
     ]
    }
   ],
   "source": [
    "start_server()"
   ]
  },
  {
   "cell_type": "markdown",
   "id": "0f5fc5c1",
   "metadata": {},
   "source": [
    "# Лабораторная работа №8"
   ]
  },
  {
   "cell_type": "code",
   "execution_count": 16,
   "id": "57184ff3",
   "metadata": {},
   "outputs": [],
   "source": [
    "server_running = True\n",
    "lock = threading.Lock()\n",
    "\n",
    "def create_shared_secret(client_socket, private_key, params_bytes, public_key_b):\n",
    "    client_socket.sendall(params_bytes)\n",
    "    client_socket.sendall(public_key_b)\n",
    "    \n",
    "    client_public_key_b = client_socket.recv(1024)\n",
    "    client_public_key = serialization.load_pem_public_key(client_public_key_b)\n",
    "    \n",
    "    shared_secret = private_key.exchange(client_public_key)\n",
    "    derived_key = HKDF(\n",
    "        algorithm=hashes.SHA256(),\n",
    "        length=32,\n",
    "        salt=None,\n",
    "        info='handshake data'.encode(),\n",
    "        backend=default_backend()\n",
    "    ).derive(shared_secret)\n",
    "    \n",
    "    return derived_key\n",
    "\n",
    "def handle_client(client_socket, server_socket, derived_key):\n",
    "    \"\"\"Обрабатывает соединение с клиентом в отдельном потоке.\"\"\"\n",
    "    global server_running\n",
    "    try:\n",
    "        while True:\n",
    "            iv = client_socket.recv(1024)\n",
    "            ciphertext = client_socket.recv(1024)\n",
    "            \n",
    "            cipher = Cipher(algorithms.AES(derived_key), modes.CFB(iv), backend = default_backend())\n",
    "            decryptor = cipher.decryptor()\n",
    "            data = decryptor.update(ciphertext) + decryptor.finalize()\n",
    "            \n",
    "            iv = urandom(16)\n",
    "            cipher = Cipher(algorithms.AES(derived_key), modes.CFB(iv), backend=default_backend())\n",
    "            encryptor = cipher.encryptor()\n",
    "            ciphertext = encryptor.update(data) + encryptor.finalize()\n",
    "\n",
    "            client_socket.sendall(iv)\n",
    "            client_socket.sendall(ciphertext)\n",
    "\n",
    "            if data.decode('utf-8') in ('exit', None):\n",
    "                break\n",
    "                \n",
    "            if data.decode('utf-8') == 'shutdown':\n",
    "                with lock:\n",
    "                    server_running = False\n",
    "                break\n",
    "\n",
    "    finally:\n",
    "        print(\"Соединение с клиентом закрыто\")\n",
    "        client_socket.close()\n",
    "        if not server_running:\n",
    "            with lock:\n",
    "                server_socket.close()\n",
    "            print(\"Сервер закрыт\")\n",
    "\n",
    "def start_server():\n",
    "    \"\"\"Запускает сервер и обрабатывает множество соединений.\"\"\"\n",
    "    global server_running\n",
    "    server_socket = socket.socket(socket.AF_INET, socket.SOCK_STREAM)\n",
    "    server_socket.bind(('localhost', 9090))\n",
    "    server_socket.listen()\n",
    "    \n",
    "    parameters = dh.generate_parameters(generator=2, key_size=2048, backend=default_backend())\n",
    "    private_key = parameters.generate_private_key()\n",
    "    public_key = private_key.public_key()\n",
    "    \n",
    "    public_key_b = public_key.public_bytes(\n",
    "    encoding = serialization.Encoding.PEM,\n",
    "    format = serialization.PublicFormat.SubjectPublicKeyInfo\n",
    "    )\n",
    "    params_bytes = parameters.parameter_bytes(\n",
    "    encoding=serialization.Encoding.PEM,\n",
    "    format=serialization.ParameterFormat.PKCS3\n",
    "    )\n",
    "    print(\"Сервер запущен и ожидает подключений...\")\n",
    "    \n",
    "    server_running = True\n",
    "    while server_running:\n",
    "        try:\n",
    "            client_socket, address = server_socket.accept()\n",
    "        except socket.error:\n",
    "            break\n",
    "        derived_key = create_shared_secret(client_socket, private_key, params_bytes, public_key_b)\n",
    "        print(f\"Принято соединение от {address}\")\n",
    "        client_thread = threading.Thread(target=handle_client, args=(client_socket, server_socket, derived_key))\n",
    "        client_thread.start()"
   ]
  },
  {
   "cell_type": "code",
   "execution_count": 17,
   "id": "ce852dc4",
   "metadata": {},
   "outputs": [
    {
     "name": "stdout",
     "output_type": "stream",
     "text": [
      "Сервер запущен и ожидает подключений...\n",
      "Принято соединение от ('127.0.0.1', 56337)\n",
      "Соединение с клиентом закрыто\n",
      "Сервер закрыт\n"
     ]
    }
   ],
   "source": [
    "start_server()"
   ]
  },
  {
   "cell_type": "code",
   "execution_count": 6,
   "id": "7edba4df",
   "metadata": {},
   "outputs": [],
   "source": [
    "def start_udp_server():\n",
    "    server_socket = socket.socket(socket.AF_INET, socket.SOCK_DGRAM)\n",
    "    server_socket.bind(('localhost', 9090))\n",
    "\n",
    "    key = Fernet.generate_key()\n",
    "    cipher = Fernet(key)\n",
    "    print(\"Сервер запущен и ожидает сообщений...\")\n",
    "    \n",
    "    _, client_address = server_socket.recvfrom(1024)\n",
    "    server_socket.sendto(key, client_address)\n",
    "\n",
    "    while True:\n",
    "        data, client_address = server_socket.recvfrom(1024)\n",
    "        data = cipher.decrypt(data)\n",
    "        \n",
    "        ciphertext = cipher.encrypt(data)\n",
    "        server_socket.sendto(ciphertext, client_address)\n",
    "\n",
    "        if data.decode()=='exit':\n",
    "            print(\"Сервер закрыт\")\n",
    "            server_socket.close()\n",
    "            break\n",
    "            \n",
    "        print(f'Отправлен эхо-ответ \"{data.decode()}\" на адрес {client_address}')"
   ]
  },
  {
   "cell_type": "code",
   "execution_count": 7,
   "id": "c9e18b20",
   "metadata": {
    "scrolled": false
   },
   "outputs": [
    {
     "name": "stdout",
     "output_type": "stream",
     "text": [
      "Сервер запущен и ожидает сообщений...\n",
      "Отправлен эхо-ответ \"ыдаодыоа\" на адрес ('127.0.0.1', 58046)\n",
      "Отправлен эхо-ответ \"ыдаыдола\" на адрес ('127.0.0.1', 58046)\n",
      "Сервер закрыт\n"
     ]
    }
   ],
   "source": [
    "start_udp_server()"
   ]
  },
  {
   "cell_type": "code",
   "execution_count": 2,
   "id": "75c02264",
   "metadata": {},
   "outputs": [],
   "source": [
    "selector = selectors.DefaultSelector()\n",
    "server_running = True\n",
    "\n",
    "logging.basicConfig(level=logging.INFO, format='%(asctime)s - %(message)s')\n",
    "logger = logging.getLogger()\n",
    "\n",
    "ciphers = {}\n",
    "\n",
    "def accept_connection(server_socket):\n",
    "    try:\n",
    "        client_socket, client_address = server_socket.accept()\n",
    "        \n",
    "        key = Fernet.generate_key()\n",
    "        cipher = Fernet(key)\n",
    "        ciphers[client_socket] = cipher\n",
    "        client_socket.sendall(key)\n",
    "        \n",
    "        logger.info(f\"Подключение от {client_address}\")\n",
    "        client_socket.setblocking(False)\n",
    "        selector.register(client_socket, selectors.EVENT_READ, send_echo)\n",
    "    except Exception as e:\n",
    "        logger.error(f\"Ошибка при подключении клиента: {e}\")\n",
    "\n",
    "def send_echo(client_socket):\n",
    "    try:\n",
    "        cipher = ciphers[client_socket]\n",
    "        \n",
    "        ciphertext = client_socket.recv(1024)\n",
    "        data = cipher.decrypt(ciphertext)\n",
    "        if data:\n",
    "            ciphertext = cipher.encrypt(data)\n",
    "            client_socket.sendall(ciphertext)\n",
    "\n",
    "            if data.decode('utf-8') == 'shutdown':\n",
    "                shutdown_server()\n",
    "                return\n",
    "\n",
    "            if data.decode('utf-8') == 'exit':\n",
    "                close_connection(client_socket)\n",
    "                return\n",
    "        else:\n",
    "            close_connection(client_socket, 1)\n",
    "    except Exception as e:\n",
    "        logger.error(f\"Ошибка при обработке данных от клиента: {e}\")\n",
    "        close_connection(client_socket)\n",
    "\n",
    "def close_connection(client_socket, break_ = 0):\n",
    "    try:\n",
    "        ciphers.pop(client_socket)\n",
    "        selector.unregister(client_socket)\n",
    "        client_socket.close()\n",
    "\n",
    "        if not break_:\n",
    "            logger.info(\"Соединение с клиентом закрыто\")\n",
    "        else:\n",
    "            logger.info(\"Соединение с клиентом разорвано\")\n",
    "            \n",
    "    except Exception as e:\n",
    "        logger.error(f\"Ошибка при закрытии соединения: {e}\")\n",
    "\n",
    "def shutdown_server():\n",
    "    global server_running\n",
    "    server_running = False\n",
    "    events = selector.select(timeout=None)\n",
    "    for key, _ in events:\n",
    "        if key.data == send_echo:\n",
    "            close_connection(key.fileobj)\n",
    "\n",
    "def start_server():\n",
    "    global server_running\n",
    "    server_socket = socket.socket(socket.AF_INET, socket.SOCK_STREAM)\n",
    "    server_socket.bind(('localhost', 9090))\n",
    "    server_socket.listen()\n",
    "    server_socket.setblocking(False)\n",
    "    selector.register(server_socket, selectors.EVENT_READ, accept_connection)\n",
    "\n",
    "    logger.info(\"Сервер запущен и ожидает подключений...\")\n",
    "    while server_running:\n",
    "        try:\n",
    "            events = selector.select(timeout=None)\n",
    "            for key, _ in events:\n",
    "                callback = key.data\n",
    "                callback(key.fileobj)\n",
    "        except Exception as e:\n",
    "            logger.error(f\"Ошибка в основном цикле сервера: {e}\")\n",
    "\n",
    "    logger.info(\"Сервер закрыт\")\n",
    "    server_socket.close()"
   ]
  },
  {
   "cell_type": "code",
   "execution_count": 3,
   "id": "d8cb54b9",
   "metadata": {},
   "outputs": [
    {
     "name": "stderr",
     "output_type": "stream",
     "text": [
      "2024-05-20 16:36:56,441 - Сервер запущен и ожидает подключений...\n",
      "2024-05-20 16:36:58,803 - Подключение от ('127.0.0.1', 52213)\n",
      "2024-05-20 16:37:01,590 - Ошибка при обработке данных от клиента: \n",
      "2024-05-20 16:37:01,591 - Соединение с клиентом закрыто\n",
      "2024-05-20 16:37:31,663 - Подключение от ('127.0.0.1', 52226)\n",
      "2024-05-20 16:38:19,134 - Подключение от ('127.0.0.1', 52271)\n",
      "2024-05-20 16:39:05,609 - Соединение с клиентом закрыто\n",
      "2024-05-20 16:39:51,533 - Соединение с клиентом закрыто\n",
      "2024-05-20 16:39:51,534 - Сервер закрыт\n"
     ]
    }
   ],
   "source": [
    "start_server()"
   ]
  },
  {
   "cell_type": "code",
   "execution_count": null,
   "id": "583be4d6",
   "metadata": {},
   "outputs": [],
   "source": []
  }
 ],
 "metadata": {
  "kernelspec": {
   "display_name": "Python 3 (ipykernel)",
   "language": "python",
   "name": "python3"
  },
  "language_info": {
   "codemirror_mode": {
    "name": "ipython",
    "version": 3
   },
   "file_extension": ".py",
   "mimetype": "text/x-python",
   "name": "python",
   "nbconvert_exporter": "python",
   "pygments_lexer": "ipython3",
   "version": "3.9.12"
  }
 },
 "nbformat": 4,
 "nbformat_minor": 5
}
