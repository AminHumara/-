{
 "cells": [
  {
   "cell_type": "code",
   "execution_count": 9,
   "id": "7c82ffa8",
   "metadata": {},
   "outputs": [],
   "source": [
    "from cryptography.fernet import Fernet\n",
    "\n",
    "\n",
    "def generate_and_save_key(file_path):\n",
    "    key = Fernet.generate_key()\n",
    "    \n",
    "    with open(file_path, 'wb') as key_file:\n",
    "        key_file.write(key)\n",
    "        \n",
    "    print(f\"Ключ сохранён в {file_path}\")\n",
    "\n",
    "    \n",
    "def load_key(file_path):\n",
    "    with open(file_path, 'rb') as key_file:\n",
    "        return key_file.read()\n",
    "\n",
    "    \n",
    "def encrypt(key, input_file_path, output_file_path):\n",
    "    cipher = Fernet(key)\n",
    "    \n",
    "    with open(input_file_path, 'rb') as file:\n",
    "        file_data = file.read()\n",
    "        \n",
    "    encrypted_data = cipher.encrypt(file_data)\n",
    "    \n",
    "    with open(output_file_path, 'wb') as file:\n",
    "        file.write(encrypted_data)\n",
    "        \n",
    "    print(f\"Зашифрованные данные сохранены в {output_file_path}\")\n",
    "\n",
    "\n",
    "def decrypt(key, input_file_path, output_file_path):\n",
    "    cipher = Fernet(key)\n",
    "    \n",
    "    with open(input_file_path, 'rb') as file:\n",
    "        encrypted_data = file.read()\n",
    "        \n",
    "    decrypted_data = cipher.decrypt(encrypted_data)\n",
    "    \n",
    "    with open(output_file_path, 'wb') as file:\n",
    "        file.write(decrypted_data)\n",
    "    \n",
    "    print(f\"Расшифрованные данные сохранены в {output_file_path}\")"
   ]
  },
  {
   "cell_type": "code",
   "execution_count": 5,
   "id": "3a8fb197",
   "metadata": {},
   "outputs": [
    {
     "name": "stdout",
     "output_type": "stream",
     "text": [
      "Ключ сохранён в key.txt\n"
     ]
    }
   ],
   "source": [
    "generate_and_save_key('key.txt')"
   ]
  },
  {
   "cell_type": "code",
   "execution_count": 8,
   "id": "6105d24b",
   "metadata": {},
   "outputs": [
    {
     "name": "stdout",
     "output_type": "stream",
     "text": [
      "Зашифрованные данные сохранены в encrypted_data.txt\n"
     ]
    }
   ],
   "source": [
    "encrypt(load_key('key.txt'), 'data.txt', 'encrypted_data.txt')"
   ]
  },
  {
   "cell_type": "code",
   "execution_count": 10,
   "id": "87f997f0",
   "metadata": {},
   "outputs": [
    {
     "name": "stdout",
     "output_type": "stream",
     "text": [
      "Расшифрованные данные сохранены в decrypted_data.txt\n"
     ]
    }
   ],
   "source": [
    "decrypt(load_key('key.txt'), 'encrypted_data.txt', 'decrypted_data.txt')"
   ]
  },
  {
   "cell_type": "code",
   "execution_count": null,
   "id": "0ec24fa5",
   "metadata": {},
   "outputs": [],
   "source": []
  }
 ],
 "metadata": {
  "kernelspec": {
   "display_name": "Python 3 (ipykernel)",
   "language": "python",
   "name": "python3"
  },
  "language_info": {
   "codemirror_mode": {
    "name": "ipython",
    "version": 3
   },
   "file_extension": ".py",
   "mimetype": "text/x-python",
   "name": "python",
   "nbconvert_exporter": "python",
   "pygments_lexer": "ipython3",
   "version": "3.9.12"
  }
 },
 "nbformat": 4,
 "nbformat_minor": 5
}
